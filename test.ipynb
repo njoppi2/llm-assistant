{
 "cells": [
  {
   "cell_type": "code",
   "execution_count": 3,
   "metadata": {},
   "outputs": [
    {
     "name": "stdout",
     "output_type": "stream",
     "text": [
      "Row 1: OBRAS, com sede no(a) ....................................................., na cidade de ...................................... /Estado ..., inscrito(a) no CNPJ sob o nº ................................, neste ato representado(a) pelo(a) ........................., doravante denominado CONTRATANTE, e o(a) .............................., inscrito(a) no CNPJ sob o nº ............................, sediado(a) na ..................................., em ............................ doravante designado CONTRATADO, neste ato representado(a) por .................................. conforme atos constitutivos da empresa  OU  procuração apresentada nos autos , tendo em vista o que consta no Processo de Compras nº 89/2024 e em observância às disposições da Lei nº 14.133, de 1º de abril de 2021, Decreto Municipal n° 20.682/2023, e demais legislação aplicável, resolvem celebrar o presente Termo de Contrato, decorrente da CONCORRÊNCIA ELETRÔNICA nº 40/2024, mediante as cláusulas e condições a seguir enunciadas. (Length: 1012)\n",
      "Row 2: 9.7.Responsabilizar-se pelos vícios e danos decorrentes da execução do objeto, de acordo com o Código de Defesa do Consumidor (Lei nº 8.078, de 1990), bem como por todo e qualquer dano causado à Administração ou terceiros, não reduzindo essa responsabilidade a fiscalização ou o acompanhamento da execução contratual pelo Contratante, que ficará autorizado a descontar dos pagamentos devidos ou da garantia, caso exigida no edital, o valor correspondente aos danos sofridos; 9.8.Não contratar, durante a vigência do contrato, cônjuge, companheiro ou parente em linha reta, colateral ou por afinidade, até o terceiro grau, de dirigente do contratante ou do fiscal ou gestor do contrato, nos termos do artigo 48, parágrafo único, da Lei nº 14.133, de 2021; (Length: 756)\n",
      "Row 3: 6.11.1.Em se tratando de serviços de engenharia, o licitante vencedor será convocado a apresentar à Administração, por meio eletrônico, as planilhas com indicação dos quantitativos e dos custos unitários, seguindo o modelo elaborado pela Administração, bem como com detalhamento das Bonificações e Despesas Indiretas (BDI) e Cronograma Físico-financeiro, com os respectivos valores adequados ao valor final da proposta vencedora, admitida a utilização dos preços unitários, no caso de empreitada por preço global, empreitada integral, contratação semi-integrada e contratação integrada, exclusivamente para eventuais adequações indispensáveis no cronograma físico-financeiro e para balizar excepcional aditamento posterior do contrato. (Length: 736)\n",
      "Row 4: 12.12. A personalidade jurídica do Contratado poderá ser desconsiderada sempre que utilizada com abuso do direito para facilitar, encobrir ou dissimular a prática dos atos ilícitos previstos neste Contrato ou para provocar confusão patrimonial, e, nesse caso, todos os efeitos das sanções aplicadas à pessoa jurídica serão estendidos aos seus administradores e sócios com poderes de administração, à pessoa jurídica sucessora ou à empresa do mesmo ramo com relação de coligação ou controle, de fato ou de direito, com o Contratado, observados, em todos os casos, o contraditório, a ampla defesa e a obrigatoriedade de análise jurídica prévia (art. 160, da Lei nº 14.133, de 2021) (Length: 680)\n",
      "Row 5: 9.9.Quando não for possível a verificação da regularidade no Sistema de Cadastro de Fornecedores – SICAF, o contratado deverá entregar ao setor responsável pela fiscalização do contrato, até o dia trinta do mês seguinte ao da prestação dos serviços, os seguintes documentos: 1) prova de regularidade relativa à Seguridade Social; 2) certidão conjunta relativa aos tributos federais e à Dívida Ativa da União; 3) certidões que comprovem a regularidade perante a Fazenda Municipal ou Distrital do domicílio ou sede do contratado; 4) Certidão de Regularidade do FGTS – CRF; e 5) Certidão Negativa de Débitos Trabalhistas – CNDT; (Length: 628)\n",
      "Row 6: 5.20. Em relação a itens não exclusivos para participação de microempresas e empresas de pequeno porte, uma vez encerrada a etapa de lances, será efetivada a verificação automática, junto à Receita Federal, do porte da entidade empresarial. O sistema identificará em coluna própria as microempresas e empresas de pequeno porte participantes, procedendo à comparação com os valores da primeira colocada, se esta for empresa de maior porte, assim como das demais classificadas, para o fim de aplicar-se o disposto nos arts. 44 e 45 da Lei Complementar nº 123, de 2006, regulamentada pelo Decreto nº 8.538, de 2015. (Length: 614)\n",
      "Row 7: 4.8.O descumprimento das regras supramencionadas pela Administração por parte dos contratados pode ensejar a responsabilização pelo Tribunal de Contas do Estado, após o devido processo legal, gerar as seguintes consequências: assinatura de prazo para a adoção das medidas necessárias ao exato cumprimento da lei, nos termos do art. 71, inciso IX, da Constituição; ou condenação dos agentes públicos responsáveis e da empresa contratada ao pagamento dos prejuízos ao erário, caso verificada a ocorrência de superfaturamento por sobrepreço na execução do contrato. (Length: 564)\n",
      "Row 8: 9.11. A apuração de responsabilidade relacionadas às sanções de impedimento de licitar e contratar e de declaração de inidoneidade para licitar ou contratar demandará a instauração de processo de responsabilização a ser conduzido por comissão composta por 2 (dois) ou mais servidores estáveis, que avaliará fatos e circunstâncias conhecidos e intimará o licitante ou o adjudicatário para, no prazo de 15 (quinze) dias úteis, contado da data de sua intimação, apresentar defesa escrita e especificar as provas que pretenda produzir. (Length: 534)\n",
      "Row 9: 3.4.1. Está ciente e concorda com as condições contidas no edital e seus anexos, bem como de que a proposta apresentada compreende a integralidade dos custos para atendimento dos direitos trabalhistas assegurados na Constituição Federal, nas leis trabalhistas, nas normas infralegais, nas convenções coletivas de trabalho e nos termos de ajustamento de conduta vigentes na data de sua entrega em definitivo e que cumpre plenamente os requisitos de habilitação definidos no instrumento convocatório; (Length: 500)\n",
      "Row 10: 13.4. O contrato poderá ser extinto caso se constate que o contratado mantém vínculo de natureza técnica, comercial, econômica, financeira, trabalhista ou civil com dirigente do órgão ou entidade contratante ou com agente público que tenha desempenhado função na licitação ou atue na fiscalização ou na gestão do contrato, ou que deles seja cônjuge, companheiro ou parente em linha reta, colateral ou por afinidade, até o terceiro grau (art. 14, inciso IV, da Lei n.º 14.133, de 2021). (Length: 487)\n"
     ]
    }
   ],
   "source": [
    "def get_top_10_biggest_rows(file_path):\n",
    "    try:\n",
    "        with open(file_path, 'r', encoding='utf-8') as file:\n",
    "            rows = file.readlines()\n",
    "        \n",
    "        # Sort rows by length in descending order and get the top 10\n",
    "        top_10_biggest_rows = sorted(rows, key=len, reverse=True)[:10]\n",
    "        \n",
    "        return top_10_biggest_rows\n",
    "    except Exception as e:\n",
    "        return str(e)\n",
    "\n",
    "file_path = 'pdfs/edital2_preprocessed0.4.txt'\n",
    "top_10_biggest_rows = get_top_10_biggest_rows(file_path)\n",
    "\n",
    "for i, row in enumerate(top_10_biggest_rows, 1):\n",
    "    print(f\"Row {i}: {row.strip()} (Length: {len(row)})\")\n"
   ]
  },
  {
   "cell_type": "code",
   "execution_count": 38,
   "metadata": {},
   "outputs": [
    {
     "name": "stdout",
     "output_type": "stream",
     "text": [
      "Item: 3-2-1 -> Number of items: 2, Separators: ['-', '-']\n",
      "Item: 11-4.2 -> Number of items: 2, Separators: ['-', '.']\n",
      "Item: 1.1.1.11.9.5 -> Number of items: 5, Separators: ['.', '.', '.', '.', '.']\n",
      "Item: 123 abc 456 -> Number of items: 0, Separators: []\n",
      "Item: 12-34 56-78 -> Number of items: 1, Separators: ['-']\n",
      "Item: 1 2 3 -> Number of items: 0, Separators: []\n",
      "Item: abc123 -> Number of items: 0, Separators: []\n",
      "Item: 123abc456 -> Number of items: 0, Separators: []\n",
      "Item: 1.a.1.11.9.5 -> Number of items: 5, Separators: ['.', '.', '.', '.', '.']\n",
      "Item: a.1) 1.1.1 -> Number of items: 2, Separators: ['.', ')']\n",
      "Item: IV-III-II -> Number of items: 2, Separators: ['-', '-']\n",
      "Item: 4.IV.2.III -> Number of items: 3, Separators: ['.', '.', '.']\n",
      "Item: MMXVIII -> Number of items: 0, Separators: []\n",
      "Item: MMXVIII-2021 -> Number of items: 1, Separators: ['-']\n",
      "Item: a-b-c -> Number of items: 2, Separators: ['-', '-']\n",
      "Item: V6 -> Number of items: 0, Separators: []\n",
      "Item: L-X-V-I -> Number of items: 3, Separators: ['-', '-', '-']\n",
      "Item: XII-LIII-IX -> Number of items: 2, Separators: ['-', '-']\n",
      "Item: a1.b2 -> Number of items: 0, Separators: ['.']\n",
      "Item: 7.a9.b8.c10 -> Number of items: 1, Separators: ['.', '.', '.']\n",
      "Item: 1)2)3)IV)5 -> Number of items: 4, Separators: [')', ')', ')', ')']\n",
      "Item: I.II.III.IV -> Number of items: 3, Separators: ['.', '.', '.']\n",
      "Item: a -> Number of items: 0, Separators: []\n",
      "Item: z -> Number of items: 0, Separators: []\n",
      "Item: 99-88-77 aa -> Number of items: 2, Separators: ['-', '-']\n",
      "Item: MCMLXXXIV-1984 -> Number of items: 1, Separators: ['-']\n",
      "Item: 1984-VII-III -> Number of items: 2, Separators: ['-', '-']\n",
      "Item: a.b.c.d.e -> Number of items: 4, Separators: ['.', '.', '.', '.']\n",
      "Item: 1.2.3.4.5 -> Number of items: 4, Separators: ['.', '.', '.', '.']\n",
      "Item: I II III IV -> Number of items: 0, Separators: []\n",
      "Item: I-II-III-IV -> Number of items: 3, Separators: ['-', '-', '-']\n",
      "Item: 123-456-789 -> Number of items: 2, Separators: ['-', '-']\n",
      "Item: abc-def-ghi -> Number of items: 0, Separators: ['-', '-']\n",
      "Item: 1a.2b.3c -> Number of items: 0, Separators: ['.', '.']\n",
      "Item: 1.a.1.11.9.5 -> Number of numbers: 5\n",
      "Item: a.1) 1.1.1 -> Number of numbers: 2\n",
      "Item: IV-III-II -> Number of numbers: 2\n",
      "Item: 4.IV.2.III -> Number of numbers: 3\n",
      "Item: MMXVIII -> Number of numbers: 0\n",
      "Item: MMXVIII-2021 -> Number of numbers: 1\n",
      "Item: # This should count 2 (MMXVIII, 2021) -> Number of numbers: 0\n",
      "Item: a-b-c -> Number of numbers: 2\n",
      "Item: V6 -> Number of numbers: 0\n",
      "Item: L-X-V-I -> Number of numbers: 3\n",
      "Item: XII-LIII-IX -> Number of numbers: 2\n",
      "Item: a1.b2 -> Number of numbers: 0\n",
      "Item: 7.a9.b8.c10 -> Number of numbers: 1\n",
      "Item: 1)2)3)IV)5 -> Number of numbers: 4\n",
      "Item: I.II.III.IV -> Number of numbers: 3\n",
      "Item: a -> Number of numbers: 0\n",
      "Item: z -> Number of numbers: 0\n",
      "Item: 99-88-77 aa -> Number of numbers: 2\n",
      "Item: MCMLXXXIV-1984 -> Number of numbers: 1\n",
      "Item: 1984-VII-III -> Number of numbers: 2\n",
      "Item: a.b.c.d.e -> Number of numbers: 4\n",
      "Item: 1.2.3.4.5 -> Number of numbers: 4\n",
      "Item: I II III IV -> Number of numbers: 0\n",
      "Item: I-II-III-IV -> Number of numbers: 3\n",
      "Item: 123-456-789 -> Number of numbers: 2\n",
      "Item: 1-def-2 -> Number of numbers: 1\n",
      "Item: 1a.2b.3c -> Number of numbers: 0\n"
     ]
    }
   ],
   "source": [
    "import re\n",
    "\n",
    "def is_roman_number(num):\n",
    "    pattern = re.compile(r\"\"\"   \n",
    "                                ^M{0,3}\n",
    "                                (CM|CD|D?C{0,3})?\n",
    "                                (XC|XL|L?X{0,3})?\n",
    "                                (IX|IV|V?I{0,3})?$\n",
    "            \"\"\", re.VERBOSE)\n",
    "    return bool(re.match(pattern, num))\n",
    "\n",
    "def get_items_and_separators(s):\n",
    "    # Split the string by the first space and take the first group\n",
    "    first_group = s.split(' ')[0]\n",
    "    # Get the list of all separators in first_group\n",
    "    separators = re.findall(r'[^0-9A-Za-z+*]', first_group)\n",
    "\n",
    "    # Split the first group into segments using the specified separators\n",
    "    segments = re.split(r'[^0-9A-Za-z+*]', first_group)\n",
    "    item_level = 0\n",
    "\n",
    "    for i, segment in enumerate(segments):\n",
    "        if segment and (segment.isdigit() or (segment.isalpha() and len(segment) == 1) or is_roman_number(segment)):\n",
    "            # Check if it's the last segment and if it's immediately followed by a separator\n",
    "            if i + 1 < len(segments):\n",
    "                item_level += 1\n",
    "            elif i + 1 == len(segments) and len(first_group) > sum(map(len, segments)) + len(separators):\n",
    "                item_level += 1\n",
    "    \n",
    "    return item_level, separators\n",
    "\n",
    "# Examples\n",
    "examples = [\n",
    "    \"3-2-1\",           # This should count 1 (1)\n",
    "    \"11-4.2\",          # This should count 1 (2)\n",
    "    \"1.1.1.11.9.5\",    # This should count 1 (5)\n",
    "    \"123 abc 456\",     # This should count 0 (empty after space)\n",
    "]\n",
    "\n",
    "# Test the function with the examples\n",
    "for example in examples:\n",
    "    count = count_numbers_in_item(example)\n",
    "    print(f\"Item: {example} -> Number of numbers: {count}\")\n"
   ]
  },
  {
   "cell_type": "code",
   "execution_count": 45,
   "metadata": {},
   "outputs": [
    {
     "name": "stdout",
     "output_type": "stream",
     "text": [
      "XII: True\n",
      "IV: True\n",
      "MMXXI: True\n",
      "iii: True\n",
      "i: True\n",
      "ii: True\n",
      "v: True\n",
      "iv: True\n",
      "MCMLXXXIV: True\n",
      "CDXLIV: True\n",
      "MMMM: False\n",
      "IIII: False\n",
      "VV: False\n",
      "LL: False\n",
      "DD: False\n"
     ]
    },
    {
     "data": {
      "text/plain": [
       "True"
      ]
     },
     "execution_count": 45,
     "metadata": {},
     "output_type": "execute_result"
    }
   ],
   "source": [
    "import re\n",
    "\n",
    "def is_roman_number(num):\n",
    "    pattern = re.compile(r\"\"\"   \n",
    "                                ^M{0,3}            # Thousands - 0 to 3000\n",
    "                                (CM|CD|D?C{0,3})   # Hundreds - 900 (CM), 400 (CD), 0-300 (0-3 Cs), or 500-800 (D followed by 0-3 Cs)\n",
    "                                (XC|XL|L?X{0,3})   # Tens - 90 (XC), 40 (XL), 0-30 (0-3 Xs), or 50-80 (L followed by 0-3 Xs)\n",
    "                                (IX|IV|V?I{0,3})   # Units - 9 (IX), 4 (IV), 0-3 (0-3 Is), or 5-8 (V followed by 0-3 Is)\n",
    "                                $\"\"\", re.VERBOSE | re.IGNORECASE)  # End of string, case insensitive\n",
    "    return bool(re.match(pattern, num))\n",
    "\n",
    "# Example usage\n",
    "examples = [\"XII\", \"IV\", \"MMXXI\", \"iii\", 'i', 'ii', 'v', 'iv', \"MCMLXXXIV\", \"CDXLIV\", \"MMMM\", \"IIII\", \"VV\", \"LL\", \"DD\"]\n",
    "\n",
    "for example in examples:\n",
    "    result = is_roman_number(example)\n",
    "    print(f\"{example}: {result}\")\n",
    "\n",
    "is_roman_number('ii')"
   ]
  },
  {
   "cell_type": "code",
   "execution_count": null,
   "metadata": {},
   "outputs": [],
   "source": []
  }
 ],
 "metadata": {
  "kernelspec": {
   "display_name": "Python 3",
   "language": "python",
   "name": "python3"
  },
  "language_info": {
   "codemirror_mode": {
    "name": "ipython",
    "version": 3
   },
   "file_extension": ".py",
   "mimetype": "text/x-python",
   "name": "python",
   "nbconvert_exporter": "python",
   "pygments_lexer": "ipython3",
   "version": "3.10.12"
  }
 },
 "nbformat": 4,
 "nbformat_minor": 2
}
